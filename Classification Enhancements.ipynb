{
 "cells": [
  {
   "cell_type": "code",
   "execution_count": 2,
   "id": "b7c484e8",
   "metadata": {},
   "outputs": [],
   "source": [
    "import numpy as np\n",
    "import pandas as pd\n",
    "import matplotlib.pyplot as plt\n",
    "%matplotlib inline\n",
    "import seaborn as sns\n",
    "\n",
    "\n",
    "from sklearn.neighbors import KNeighborsClassifier\n",
    "from sklearn.linear_model import LogisticRegression\n",
    "from sklearn.tree import DecisionTreeClassifier\n",
    "from sklearn.model_selection import train_test_split\n",
    "\n",
    "from sklearn.metrics import classification_report, confusion_matrix, recall_score\n",
    "from imblearn.over_sampling import RandomOverSampler\n",
    "\n",
    "import warnings\n",
    "warnings.filterwarnings('ignore')"
   ]
  },
  {
   "cell_type": "markdown",
   "id": "2268c294",
   "metadata": {},
   "source": [
    "# Recap"
   ]
  },
  {
   "cell_type": "code",
   "execution_count": 3,
   "id": "f2272ca5",
   "metadata": {},
   "outputs": [],
   "source": [
    "df = pd.read_csv(r'healthcare-dataset-stroke-data.csv')"
   ]
  },
  {
   "cell_type": "code",
   "execution_count": 4,
   "id": "fecd8377",
   "metadata": {},
   "outputs": [],
   "source": [
    "maleBMI = df[df['gender']=='Male']['bmi'].mean()\n",
    "femaleBMI = df[df['gender']=='Female']['bmi'].mean()\n",
    "otherBMI = df[df['gender']=='Other']['bmi'].mean()\n",
    "\n",
    "df.loc[df.gender=='Male'] = df.loc[df.gender=='Male'].fillna(maleBMI)\n",
    "df.loc[df.gender=='Female'] = df.loc[df.gender=='Female'].fillna(femaleBMI)\n",
    "df.loc[df.gender=='Other'] = df.loc[df.gender=='Other'].fillna(otherBMI)"
   ]
  },
  {
   "cell_type": "code",
   "execution_count": 5,
   "id": "1f70da59",
   "metadata": {},
   "outputs": [],
   "source": [
    "df['gender'] = df['gender'].map({'Male':0, 'Female':1, 'Other':2})\n",
    "df['ever_married'] = df['ever_married'].map({'No':0, 'Yes':1})\n",
    "df['work_type'] = df['work_type'].map({'Govt_job':0, 'Never_worked':1, 'Private':2, 'Self-employed':3, 'children':4})\n",
    "df['Residence_type'] = df['Residence_type'].map({'Rural':0, 'Urban':1})\n",
    "df['smoking_status'] = df['smoking_status'].map({'Unknown':0, 'formerly smoked':1, 'never smoked':2, 'smokes':3})"
   ]
  },
  {
   "cell_type": "code",
   "execution_count": 6,
   "id": "e6776655",
   "metadata": {},
   "outputs": [
    {
     "data": {
      "text/html": [
       "<div>\n",
       "<style scoped>\n",
       "    .dataframe tbody tr th:only-of-type {\n",
       "        vertical-align: middle;\n",
       "    }\n",
       "\n",
       "    .dataframe tbody tr th {\n",
       "        vertical-align: top;\n",
       "    }\n",
       "\n",
       "    .dataframe thead th {\n",
       "        text-align: right;\n",
       "    }\n",
       "</style>\n",
       "<table border=\"1\" class=\"dataframe\">\n",
       "  <thead>\n",
       "    <tr style=\"text-align: right;\">\n",
       "      <th></th>\n",
       "      <th>id</th>\n",
       "      <th>gender</th>\n",
       "      <th>age</th>\n",
       "      <th>hypertension</th>\n",
       "      <th>heart_disease</th>\n",
       "      <th>ever_married</th>\n",
       "      <th>work_type</th>\n",
       "      <th>Residence_type</th>\n",
       "      <th>avg_glucose_level</th>\n",
       "      <th>bmi</th>\n",
       "      <th>smoking_status</th>\n",
       "      <th>stroke</th>\n",
       "    </tr>\n",
       "  </thead>\n",
       "  <tbody>\n",
       "    <tr>\n",
       "      <th>0</th>\n",
       "      <td>9046</td>\n",
       "      <td>0</td>\n",
       "      <td>67.0</td>\n",
       "      <td>0</td>\n",
       "      <td>1</td>\n",
       "      <td>1</td>\n",
       "      <td>2</td>\n",
       "      <td>1</td>\n",
       "      <td>228.69</td>\n",
       "      <td>36.600000</td>\n",
       "      <td>1</td>\n",
       "      <td>1</td>\n",
       "    </tr>\n",
       "    <tr>\n",
       "      <th>1</th>\n",
       "      <td>51676</td>\n",
       "      <td>1</td>\n",
       "      <td>61.0</td>\n",
       "      <td>0</td>\n",
       "      <td>0</td>\n",
       "      <td>1</td>\n",
       "      <td>3</td>\n",
       "      <td>0</td>\n",
       "      <td>202.21</td>\n",
       "      <td>29.065758</td>\n",
       "      <td>2</td>\n",
       "      <td>1</td>\n",
       "    </tr>\n",
       "    <tr>\n",
       "      <th>2</th>\n",
       "      <td>31112</td>\n",
       "      <td>0</td>\n",
       "      <td>80.0</td>\n",
       "      <td>0</td>\n",
       "      <td>1</td>\n",
       "      <td>1</td>\n",
       "      <td>2</td>\n",
       "      <td>0</td>\n",
       "      <td>105.92</td>\n",
       "      <td>32.500000</td>\n",
       "      <td>2</td>\n",
       "      <td>1</td>\n",
       "    </tr>\n",
       "    <tr>\n",
       "      <th>3</th>\n",
       "      <td>60182</td>\n",
       "      <td>1</td>\n",
       "      <td>49.0</td>\n",
       "      <td>0</td>\n",
       "      <td>0</td>\n",
       "      <td>1</td>\n",
       "      <td>2</td>\n",
       "      <td>1</td>\n",
       "      <td>171.23</td>\n",
       "      <td>34.400000</td>\n",
       "      <td>3</td>\n",
       "      <td>1</td>\n",
       "    </tr>\n",
       "    <tr>\n",
       "      <th>4</th>\n",
       "      <td>1665</td>\n",
       "      <td>1</td>\n",
       "      <td>79.0</td>\n",
       "      <td>1</td>\n",
       "      <td>0</td>\n",
       "      <td>1</td>\n",
       "      <td>3</td>\n",
       "      <td>0</td>\n",
       "      <td>174.12</td>\n",
       "      <td>24.000000</td>\n",
       "      <td>2</td>\n",
       "      <td>1</td>\n",
       "    </tr>\n",
       "    <tr>\n",
       "      <th>...</th>\n",
       "      <td>...</td>\n",
       "      <td>...</td>\n",
       "      <td>...</td>\n",
       "      <td>...</td>\n",
       "      <td>...</td>\n",
       "      <td>...</td>\n",
       "      <td>...</td>\n",
       "      <td>...</td>\n",
       "      <td>...</td>\n",
       "      <td>...</td>\n",
       "      <td>...</td>\n",
       "      <td>...</td>\n",
       "    </tr>\n",
       "    <tr>\n",
       "      <th>5105</th>\n",
       "      <td>18234</td>\n",
       "      <td>1</td>\n",
       "      <td>80.0</td>\n",
       "      <td>1</td>\n",
       "      <td>0</td>\n",
       "      <td>1</td>\n",
       "      <td>2</td>\n",
       "      <td>1</td>\n",
       "      <td>83.75</td>\n",
       "      <td>29.065758</td>\n",
       "      <td>2</td>\n",
       "      <td>0</td>\n",
       "    </tr>\n",
       "    <tr>\n",
       "      <th>5106</th>\n",
       "      <td>44873</td>\n",
       "      <td>1</td>\n",
       "      <td>81.0</td>\n",
       "      <td>0</td>\n",
       "      <td>0</td>\n",
       "      <td>1</td>\n",
       "      <td>3</td>\n",
       "      <td>1</td>\n",
       "      <td>125.20</td>\n",
       "      <td>40.000000</td>\n",
       "      <td>2</td>\n",
       "      <td>0</td>\n",
       "    </tr>\n",
       "    <tr>\n",
       "      <th>5107</th>\n",
       "      <td>19723</td>\n",
       "      <td>1</td>\n",
       "      <td>35.0</td>\n",
       "      <td>0</td>\n",
       "      <td>0</td>\n",
       "      <td>1</td>\n",
       "      <td>3</td>\n",
       "      <td>0</td>\n",
       "      <td>82.99</td>\n",
       "      <td>30.600000</td>\n",
       "      <td>2</td>\n",
       "      <td>0</td>\n",
       "    </tr>\n",
       "    <tr>\n",
       "      <th>5108</th>\n",
       "      <td>37544</td>\n",
       "      <td>0</td>\n",
       "      <td>51.0</td>\n",
       "      <td>0</td>\n",
       "      <td>0</td>\n",
       "      <td>1</td>\n",
       "      <td>2</td>\n",
       "      <td>0</td>\n",
       "      <td>166.29</td>\n",
       "      <td>25.600000</td>\n",
       "      <td>1</td>\n",
       "      <td>0</td>\n",
       "    </tr>\n",
       "    <tr>\n",
       "      <th>5109</th>\n",
       "      <td>44679</td>\n",
       "      <td>1</td>\n",
       "      <td>44.0</td>\n",
       "      <td>0</td>\n",
       "      <td>0</td>\n",
       "      <td>1</td>\n",
       "      <td>0</td>\n",
       "      <td>1</td>\n",
       "      <td>85.28</td>\n",
       "      <td>26.200000</td>\n",
       "      <td>0</td>\n",
       "      <td>0</td>\n",
       "    </tr>\n",
       "  </tbody>\n",
       "</table>\n",
       "<p>5110 rows × 12 columns</p>\n",
       "</div>"
      ],
      "text/plain": [
       "         id  gender   age  hypertension  heart_disease  ever_married  \\\n",
       "0      9046       0  67.0             0              1             1   \n",
       "1     51676       1  61.0             0              0             1   \n",
       "2     31112       0  80.0             0              1             1   \n",
       "3     60182       1  49.0             0              0             1   \n",
       "4      1665       1  79.0             1              0             1   \n",
       "...     ...     ...   ...           ...            ...           ...   \n",
       "5105  18234       1  80.0             1              0             1   \n",
       "5106  44873       1  81.0             0              0             1   \n",
       "5107  19723       1  35.0             0              0             1   \n",
       "5108  37544       0  51.0             0              0             1   \n",
       "5109  44679       1  44.0             0              0             1   \n",
       "\n",
       "      work_type  Residence_type  avg_glucose_level        bmi  smoking_status  \\\n",
       "0             2               1             228.69  36.600000               1   \n",
       "1             3               0             202.21  29.065758               2   \n",
       "2             2               0             105.92  32.500000               2   \n",
       "3             2               1             171.23  34.400000               3   \n",
       "4             3               0             174.12  24.000000               2   \n",
       "...         ...             ...                ...        ...             ...   \n",
       "5105          2               1              83.75  29.065758               2   \n",
       "5106          3               1             125.20  40.000000               2   \n",
       "5107          3               0              82.99  30.600000               2   \n",
       "5108          2               0             166.29  25.600000               1   \n",
       "5109          0               1              85.28  26.200000               0   \n",
       "\n",
       "      stroke  \n",
       "0          1  \n",
       "1          1  \n",
       "2          1  \n",
       "3          1  \n",
       "4          1  \n",
       "...      ...  \n",
       "5105       0  \n",
       "5106       0  \n",
       "5107       0  \n",
       "5108       0  \n",
       "5109       0  \n",
       "\n",
       "[5110 rows x 12 columns]"
      ]
     },
     "execution_count": 6,
     "metadata": {},
     "output_type": "execute_result"
    }
   ],
   "source": [
    "df"
   ]
  },
  {
   "cell_type": "code",
   "execution_count": 7,
   "id": "89a5c9f5",
   "metadata": {},
   "outputs": [
    {
     "data": {
      "text/plain": [
       "<matplotlib.axes._axes.Axes at 0x210cdc89fd0>"
      ]
     },
     "execution_count": 7,
     "metadata": {},
     "output_type": "execute_result"
    },
    {
     "data": {
      "image/png": "[encoded data removed]",
      "text/plain": [
       "<Figure size 432x288 with 2 Axes>"
      ]
     },
     "metadata": {
      "needs_background": "light"
     },
     "output_type": "display_data"
    }
   ],
   "source": [
    "fig = plt.figure()\n",
    "axes = fig.add_axes([0,0,1.5,1.5])\n",
    "sns.heatmap(df.corr(),annot=True)"
   ]
  },
  {
   "cell_type": "code",
   "execution_count": 8,
   "id": "479f293f",
   "metadata": {},
   "outputs": [
    {
     "name": "stdout",
     "output_type": "stream",
     "text": [
      "(5110, 10)\n",
      "(5110,)\n"
     ]
    }
   ],
   "source": [
    "df=df.drop('id',axis=1)\n",
    "X=df.drop('stroke',axis=1)\n",
    "y=df.stroke\n",
    "print(X.shape)\n",
    "print(y.shape)"
   ]
  },
  {
   "cell_type": "code",
   "execution_count": 9,
   "id": "862c7579",
   "metadata": {},
   "outputs": [],
   "source": [
    "X_train,X_test,y_train,y_test=train_test_split(X,y,test_size=0.2, random_state=42)\n",
    "X_train_res, y_train_res = RandomOverSampler().fit_resample(X_train, y_train)"
   ]
  },
  {
   "cell_type": "code",
   "execution_count": 10,
   "id": "8aab1733",
   "metadata": {},
   "outputs": [
    {
     "name": "stdout",
     "output_type": "stream",
     "text": [
      "Class 0 before oversampling: 3901 \n",
      "Class 1 before oversampling: 187\n",
      "Class 0 after oversampling: 3901 \n",
      "Class 1 after oversampling: 3901\n"
     ]
    }
   ],
   "source": [
    "print('Class 0 before oversampling:', sum(y_train==0),'\\nClass 1 before oversampling:', sum(y_train==1))\n",
    "print('Class 0 after oversampling:', sum(y_train_res==0),'\\nClass 1 after oversampling:', sum(y_train_res==1))"
   ]
  },
  {
   "cell_type": "markdown",
   "id": "82c3ba9b",
   "metadata": {},
   "source": [
    "# Results"
   ]
  },
  {
   "cell_type": "code",
   "execution_count": 11,
   "id": "861515f5",
   "metadata": {},
   "outputs": [
    {
     "data": {
      "text/plain": [
       "0.33216032250052685"
      ]
     },
     "execution_count": 11,
     "metadata": {},
     "output_type": "execute_result"
    }
   ],
   "source": [
    "logreg = LogisticRegression(solver='lbfgs',max_iter=1000)\n",
    "logreg.fit(X_train_res, y_train_res)\n",
    "threshold = logreg.predict_proba(X_test)[:,1].mean()\n",
    "threshold"
   ]
  },
  {
   "cell_type": "code",
   "execution_count": 12,
   "id": "e54d8155",
   "metadata": {},
   "outputs": [
    {
     "name": "stdout",
     "output_type": "stream",
     "text": [
      "              precision    recall  f1-score   support\n",
      "\n",
      "           0       0.99      0.59      0.74       960\n",
      "           1       0.13      0.94      0.23        62\n",
      "\n",
      "    accuracy                           0.61      1022\n",
      "   macro avg       0.56      0.76      0.48      1022\n",
      "weighted avg       0.94      0.61      0.71      1022\n",
      "\n"
     ]
    }
   ],
   "source": [
    "pred_log = (logreg.predict_proba(X_test)[:,1]>threshold).astype(int)\n",
    "print(classification_report(y_test,pred_log))"
   ]
  },
  {
   "cell_type": "code",
   "execution_count": 13,
   "id": "185d500f",
   "metadata": {},
   "outputs": [
    {
     "name": "stdout",
     "output_type": "stream",
     "text": [
      "[[567 393]\n",
      " [  4  58]]\n"
     ]
    }
   ],
   "source": [
    "print(confusion_matrix(y_test,pred_log))"
   ]
  },
  {
   "cell_type": "markdown",
   "id": "cb21dabd",
   "metadata": {},
   "source": [
    "# Enhancements"
   ]
  },
  {
   "cell_type": "markdown",
   "id": "b197face",
   "metadata": {},
   "source": [
    "### Scaling?"
   ]
  },
  {
   "cell_type": "code",
   "execution_count": 14,
   "id": "2a5c53ce",
   "metadata": {},
   "outputs": [],
   "source": [
    "from sklearn.preprocessing import MinMaxScaler\n",
    "from sklearn.preprocessing import StandardScaler\n",
    "MinMaxScaler = MinMaxScaler()\n",
    "StandardScaler = StandardScaler()"
   ]
  },
  {
   "cell_type": "code",
   "execution_count": 15,
   "id": "f80c482c",
   "metadata": {},
   "outputs": [],
   "source": [
    "# MinMaxScaler\n",
    "MinMaxScaler.fit(X_train_res)\n",
    "X_scaled = MinMaxScaler.transform(X_train_res)\n",
    "MinMaxScaler.fit(X_test)\n",
    "X_scaled_test = MinMaxScaler.transform(X_test)"
   ]
  },
  {
   "cell_type": "code",
   "execution_count": 16,
   "id": "edb2870d",
   "metadata": {},
   "outputs": [
    {
     "data": {
      "text/plain": [
       "0.007497252205852635"
      ]
     },
     "execution_count": 16,
     "metadata": {},
     "output_type": "execute_result"
    }
   ],
   "source": [
    "threshold = logreg.predict_proba(X_scaled_test)[:,1].mean()\n",
    "threshold"
   ]
  },
  {
   "cell_type": "code",
   "execution_count": 17,
   "id": "dd5c1855",
   "metadata": {},
   "outputs": [
    {
     "name": "stdout",
     "output_type": "stream",
     "text": [
      "              precision    recall  f1-score   support\n",
      "\n",
      "           0       0.94      0.52      0.67       960\n",
      "           1       0.06      0.47      0.11        62\n",
      "\n",
      "    accuracy                           0.52      1022\n",
      "   macro avg       0.50      0.49      0.39      1022\n",
      "weighted avg       0.88      0.52      0.64      1022\n",
      "\n"
     ]
    }
   ],
   "source": [
    "pred_log = (logreg.predict_proba(X_scaled_test)[:,1]>threshold).astype(int)\n",
    "#pred_log = logreg.predict(X_scaled_test)\n",
    "print(classification_report(y_test,pred_log))"
   ]
  },
  {
   "cell_type": "code",
   "execution_count": 18,
   "id": "c939b5a2",
   "metadata": {},
   "outputs": [
    {
     "name": "stdout",
     "output_type": "stream",
     "text": [
      "[[500 460]\n",
      " [ 33  29]]\n"
     ]
    }
   ],
   "source": [
    "print(confusion_matrix(y_test,pred_log))"
   ]
  },
  {
   "cell_type": "code",
   "execution_count": 19,
   "id": "7ca75742",
   "metadata": {},
   "outputs": [],
   "source": [
    "# StandardScaler\n",
    "StandardScaler.fit(X_train_res)\n",
    "X_scaled = StandardScaler.transform(X_train_res)\n",
    "StandardScaler.fit(X_test)\n",
    "X_scaled_test = StandardScaler.transform(X_test)"
   ]
  },
  {
   "cell_type": "code",
   "execution_count": 20,
   "id": "313796a8",
   "metadata": {},
   "outputs": [
    {
     "data": {
      "text/plain": [
       "0.010144475677019878"
      ]
     },
     "execution_count": 20,
     "metadata": {},
     "output_type": "execute_result"
    }
   ],
   "source": [
    "threshold = logreg.predict_proba(X_scaled_test)[:,1].mean()\n",
    "threshold"
   ]
  },
  {
   "cell_type": "code",
   "execution_count": 21,
   "id": "5b55d138",
   "metadata": {},
   "outputs": [
    {
     "name": "stdout",
     "output_type": "stream",
     "text": [
      "              precision    recall  f1-score   support\n",
      "\n",
      "           0       0.96      0.86      0.91       960\n",
      "           1       0.18      0.47      0.26        62\n",
      "\n",
      "    accuracy                           0.84      1022\n",
      "   macro avg       0.57      0.67      0.58      1022\n",
      "weighted avg       0.91      0.84      0.87      1022\n",
      "\n"
     ]
    }
   ],
   "source": [
    "pred_log = (logreg.predict_proba(X_scaled_test)[:,1]>threshold).astype(int)\n",
    "#pred_log = logreg.predict(X_scaled_test)\n",
    "print(classification_report(y_test,pred_log))"
   ]
  },
  {
   "cell_type": "code",
   "execution_count": 22,
   "id": "53294340",
   "metadata": {},
   "outputs": [
    {
     "name": "stdout",
     "output_type": "stream",
     "text": [
      "[[828 132]\n",
      " [ 33  29]]\n"
     ]
    }
   ],
   "source": [
    "print(confusion_matrix(y_test,pred_log))"
   ]
  },
  {
   "cell_type": "markdown",
   "id": "c1b5a724",
   "metadata": {},
   "source": [
    "there is improvement in accuracy (Standard Scaler) but recall has dropped significantly."
   ]
  },
  {
   "cell_type": "code",
   "execution_count": null,
   "id": "08d44071",
   "metadata": {},
   "outputs": [],
   "source": []
  },
  {
   "cell_type": "markdown",
   "id": "9253e1ea",
   "metadata": {},
   "source": [
    "### Ensemble learning?"
   ]
  },
  {
   "cell_type": "code",
   "execution_count": 23,
   "id": "4fc604b1",
   "metadata": {},
   "outputs": [],
   "source": [
    "# KNN \n",
    "knn = KNeighborsClassifier(n_neighbors=27)\n",
    "knn.fit(X_train_res,y_train_res)\n",
    "pred_knn = (knn.predict_proba(X_test)[:,1]>0.1).astype(int)\n",
    "\n",
    "# Decision Tree\n",
    "dct = DecisionTreeClassifier(random_state=0)\n",
    "dct.fit(X_train_res, y_train_res)\n",
    "pred_dct = dct.predict(X_test)\n",
    "\n",
    "# Logistic Regression\n",
    "logreg = LogisticRegression(solver='lbfgs',max_iter=1000)\n",
    "logreg.fit(X_train_res, y_train_res)\n",
    "threshold = logreg.predict_proba(X_test)[:,1].mean()\n",
    "pred_log = (logreg.predict_proba(X_test)[:,1]>threshold).astype(int)"
   ]
  },
  {
   "cell_type": "code",
   "execution_count": 23,
   "id": "ff7a5a51",
   "metadata": {},
   "outputs": [],
   "source": [
    "# Hard Voting\n",
    "from sklearn.ensemble import VotingClassifier\n",
    "hard_voting = VotingClassifier(voting='hard', estimators=[('logreg',logreg),('dct',dct),('knn',knn)])\n",
    "hard_voting.fit(X_train_res, y_train_res)\n",
    "pred_voteH = hard_voting.predict(X_test)\n",
    "\n",
    "# Soft Voting\n",
    "soft_voting = VotingClassifier(voting='soft', estimators=[('logreg',logreg),('dct',dct),('knn',knn)])\n",
    "soft_voting.fit(X_train_res, y_train_res)\n",
    "pred_voteS = soft_voting.predict(X_test)"
   ]
  },
  {
   "cell_type": "code",
   "execution_count": 24,
   "id": "1bbf41de",
   "metadata": {},
   "outputs": [],
   "source": [
    "# Stacking\n",
    "from sklearn.ensemble import StackingClassifier\n",
    "stacking = StackingClassifier(estimators=[('logreg',logreg),('dct',dct),('knn',knn)])\n",
    "stacking.fit(X_train_res, y_train_res)\n",
    "pred_stack = stacking.predict(X_test)"
   ]
  },
  {
   "cell_type": "code",
   "execution_count": 25,
   "id": "fca0ae6e",
   "metadata": {},
   "outputs": [],
   "source": [
    "# AdaBoost\n",
    "from sklearn.ensemble import AdaBoostClassifier\n",
    "adaboost = AdaBoostClassifier() # 'playing' with n_estimators and learning_rate didnt provide better results.\n",
    "adaboost.fit(X_train_res, y_train_res)\n",
    "pred_ada = adaboost.predict(X_test)"
   ]
  },
  {
   "cell_type": "code",
   "execution_count": 26,
   "id": "1392661b",
   "metadata": {},
   "outputs": [
    {
     "name": "stdout",
     "output_type": "stream",
     "text": [
      "[20:37:02] WARNING: ..\\src\\learner.cc:1095: Starting in XGBoost 1.3.0, the default evaluation metric used with the objective 'binary:logistic' was changed from 'error' to 'logloss'. Explicitly set eval_metric if you'd like to restore the old behavior.\n"
     ]
    }
   ],
   "source": [
    "# XGBoost\n",
    "from xgboost import XGBClassifier\n",
    "xgboost = XGBClassifier()\n",
    "xgboost.fit(X_train_res, y_train_res)\n",
    "pred_xgb = xgboost.predict(X_test)"
   ]
  },
  {
   "cell_type": "code",
   "execution_count": 27,
   "id": "4c866a74",
   "metadata": {},
   "outputs": [
    {
     "name": "stdout",
     "output_type": "stream",
     "text": [
      "LogisticRegression      0.7485322896281801\n",
      "DecisionTreeClassifier      0.913894324853229\n",
      "KNeighborsClassifier      0.7093933463796478\n",
      "VotingClassifier      0.7876712328767124\n",
      "VotingClassifier      0.8669275929549902\n",
      "StackingClassifier      0.913894324853229\n",
      "AdaBoostClassifier      0.7338551859099804\n",
      "XGBClassifier      0.9129158512720157\n"
     ]
    }
   ],
   "source": [
    "for model in [logreg, dct, knn, hard_voting, soft_voting, stacking, adaboost, xgboost]:\n",
    "    print(model.__class__.__name__,\"    \", model.score(X_test, y_test))"
   ]
  },
  {
   "cell_type": "code",
   "execution_count": 28,
   "id": "97dd1d14",
   "metadata": {},
   "outputs": [
    {
     "name": "stdout",
     "output_type": "stream",
     "text": [
      "LogisticRegression\n",
      "              precision    recall  f1-score   support\n",
      "\n",
      "           0       0.99      0.59      0.74       960\n",
      "           1       0.13      0.92      0.22        62\n",
      "\n",
      "    accuracy                           0.61      1022\n",
      "   macro avg       0.56      0.75      0.48      1022\n",
      "weighted avg       0.94      0.61      0.71      1022\n",
      "\n",
      "\n",
      "DecisionTreeClassifier\n",
      "              precision    recall  f1-score   support\n",
      "\n",
      "           0       0.94      0.96      0.95       960\n",
      "           1       0.19      0.13      0.15        62\n",
      "\n",
      "    accuracy                           0.91      1022\n",
      "   macro avg       0.57      0.55      0.55      1022\n",
      "weighted avg       0.90      0.91      0.91      1022\n",
      "\n",
      "\n",
      "KNeighborsClassifier\n",
      "              precision    recall  f1-score   support\n",
      "\n",
      "           0       0.99      0.59      0.74       960\n",
      "           1       0.12      0.89      0.22        62\n",
      "\n",
      "    accuracy                           0.61      1022\n",
      "   macro avg       0.56      0.74      0.48      1022\n",
      "weighted avg       0.94      0.61      0.71      1022\n",
      "\n",
      "\n",
      "HardVotingClassifier\n",
      "              precision    recall  f1-score   support\n",
      "\n",
      "           0       0.97      0.79      0.88       960\n",
      "           1       0.18      0.68      0.28        62\n",
      "\n",
      "    accuracy                           0.79      1022\n",
      "   macro avg       0.58      0.74      0.58      1022\n",
      "weighted avg       0.93      0.79      0.84      1022\n",
      "\n",
      "\n",
      "SoftVotingClassifier\n",
      "              precision    recall  f1-score   support\n",
      "\n",
      "           0       0.97      0.89      0.93       960\n",
      "           1       0.24      0.55      0.33        62\n",
      "\n",
      "    accuracy                           0.87      1022\n",
      "   macro avg       0.60      0.72      0.63      1022\n",
      "weighted avg       0.92      0.87      0.89      1022\n",
      "\n",
      "\n",
      "StackingClassifier\n",
      "              precision    recall  f1-score   support\n",
      "\n",
      "           0       0.94      0.96      0.95       960\n",
      "           1       0.19      0.13      0.15        62\n",
      "\n",
      "    accuracy                           0.91      1022\n",
      "   macro avg       0.57      0.55      0.55      1022\n",
      "weighted avg       0.90      0.91      0.91      1022\n",
      "\n",
      "\n",
      "AdaBoostClassifier\n",
      "              precision    recall  f1-score   support\n",
      "\n",
      "           0       0.99      0.73      0.84       960\n",
      "           1       0.17      0.84      0.28        62\n",
      "\n",
      "    accuracy                           0.73      1022\n",
      "   macro avg       0.58      0.78      0.56      1022\n",
      "weighted avg       0.94      0.73      0.80      1022\n",
      "\n",
      "\n",
      "XGBClassifier\n",
      "              precision    recall  f1-score   support\n",
      "\n",
      "           0       0.95      0.96      0.95       960\n",
      "           1       0.21      0.16      0.18        62\n",
      "\n",
      "    accuracy                           0.91      1022\n",
      "   macro avg       0.58      0.56      0.57      1022\n",
      "weighted avg       0.90      0.91      0.91      1022\n",
      "\n",
      "\n"
     ]
    }
   ],
   "source": [
    "names = [\"LogisticRegression\", \"DecisionTreeClassifier\", \"KNeighborsClassifier\", \"HardVotingClassifier\", \n",
    "         \"SoftVotingClassifier\", \"StackingClassifier\", \"AdaBoostClassifier\", \"XGBClassifier\"]\n",
    "preds = [pred_log, pred_dct, pred_knn, pred_voteH, pred_voteS, pred_stack, pred_ada, pred_xgb]\n",
    "for name, pred in zip(names,preds):\n",
    "    print(name)\n",
    "    print(classification_report(y_test,pred))\n",
    "    print()"
   ]
  },
  {
   "cell_type": "markdown",
   "id": "3da73920",
   "metadata": {},
   "source": [
    "There are improvements in accuracy, but there is no improvement in recall."
   ]
  },
  {
   "cell_type": "code",
   "execution_count": 24,
   "id": "89137d9a",
   "metadata": {},
   "outputs": [
    {
     "data": {
      "text/plain": [
       "numpy.ndarray"
      ]
     },
     "execution_count": 24,
     "metadata": {},
     "output_type": "execute_result"
    }
   ],
   "source": [
    "type(pred_knn)"
   ]
  },
  {
   "cell_type": "code",
   "execution_count": 25,
   "id": "310561b4",
   "metadata": {},
   "outputs": [
    {
     "data": {
      "text/plain": [
       "(1022, 10)"
      ]
     },
     "execution_count": 25,
     "metadata": {},
     "output_type": "execute_result"
    }
   ],
   "source": [
    "X_test.shape"
   ]
  },
  {
   "cell_type": "code",
   "execution_count": 26,
   "id": "7c2d12ef",
   "metadata": {},
   "outputs": [
    {
     "data": {
      "text/plain": [
       "(1022,)"
      ]
     },
     "execution_count": 26,
     "metadata": {},
     "output_type": "execute_result"
    }
   ],
   "source": [
    "y_test.shape"
   ]
  },
  {
   "cell_type": "code",
   "execution_count": null,
   "id": "f7c3c8c7",
   "metadata": {},
   "outputs": [],
   "source": []
  }
 ],
 "metadata": {
  "kernelspec": {
   "display_name": "Python 3",
   "language": "python",
   "name": "python3"
  },
  "language_info": {
   "codemirror_mode": {
    "name": "ipython",
    "version": 3
   },
   "file_extension": ".py",
   "mimetype": "text/x-python",
   "name": "python",
   "nbconvert_exporter": "python",
   "pygments_lexer": "ipython3",
   "version": "3.8.8"
  }
 },
 "nbformat": 4,
 "nbformat_minor": 5
}
