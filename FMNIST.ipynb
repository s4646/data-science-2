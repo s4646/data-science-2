{
 "cells": [
  {
   "cell_type": "code",
   "execution_count": 1,
   "id": "29d87f86",
   "metadata": {},
   "outputs": [],
   "source": [
    "import time\n",
    "\n",
    "import numpy as np\n",
    "import pandas as pd\n",
    "import matplotlib.pyplot as plt\n",
    "%matplotlib inline\n",
    "import seaborn as sns\n",
    "import tensorflow as tf\n",
    "import keras\n",
    "\n",
    "from sklearn.neighbors import KNeighborsClassifier\n",
    "from sklearn.linear_model import LogisticRegression\n",
    "from sklearn.tree import DecisionTreeClassifier\n",
    "from sklearn.ensemble import RandomForestClassifier\n",
    "from sklearn.ensemble import VotingClassifier\n",
    "from sklearn.ensemble import StackingClassifier\n",
    "from sklearn.ensemble import AdaBoostClassifier\n",
    "from xgboost import XGBClassifier\n",
    "from sklearn.decomposition import PCA\n",
    "from sklearn.metrics import classification_report\n",
    "from sklearn.model_selection import cross_val_score\n",
    "from sklearn.model_selection import GridSearchCV\n",
    "\n",
    "import warnings\n",
    "warnings.filterwarnings('ignore')"
   ]
  },
  {
   "cell_type": "markdown",
   "id": "f4e8ca1f",
   "metadata": {},
   "source": [
    "# Load"
   ]
  },
  {
   "cell_type": "code",
   "execution_count": 2,
   "id": "2b8a0bb9",
   "metadata": {},
   "outputs": [],
   "source": [
    "fashion_mnist = tf.keras.datasets.fashion_mnist\n",
    "(x_train, y_train), (x_test, y_test) = fashion_mnist.load_data()\n",
    "assert x_train.shape == (60000, 28, 28)\n",
    "assert x_test.shape == (10000, 28, 28)\n",
    "assert y_train.shape == (60000,)\n",
    "assert y_test.shape == (10000,)"
   ]
  },
  {
   "cell_type": "markdown",
   "id": "585f11d0",
   "metadata": {},
   "source": [
    "# Transfer into dataframe"
   ]
  },
  {
   "cell_type": "code",
   "execution_count": 3,
   "id": "16b449fc",
   "metadata": {},
   "outputs": [
    {
     "data": {
      "text/html": [
       "<div>\n",
       "<style scoped>\n",
       "    .dataframe tbody tr th:only-of-type {\n",
       "        vertical-align: middle;\n",
       "    }\n",
       "\n",
       "    .dataframe tbody tr th {\n",
       "        vertical-align: top;\n",
       "    }\n",
       "\n",
       "    .dataframe thead th {\n",
       "        text-align: right;\n",
       "    }\n",
       "</style>\n",
       "<table border=\"1\" class=\"dataframe\">\n",
       "  <thead>\n",
       "    <tr style=\"text-align: right;\">\n",
       "      <th></th>\n",
       "      <th>0</th>\n",
       "      <th>1</th>\n",
       "      <th>2</th>\n",
       "      <th>3</th>\n",
       "      <th>4</th>\n",
       "      <th>5</th>\n",
       "      <th>6</th>\n",
       "      <th>7</th>\n",
       "      <th>8</th>\n",
       "      <th>9</th>\n",
       "      <th>...</th>\n",
       "      <th>775</th>\n",
       "      <th>776</th>\n",
       "      <th>777</th>\n",
       "      <th>778</th>\n",
       "      <th>779</th>\n",
       "      <th>780</th>\n",
       "      <th>781</th>\n",
       "      <th>782</th>\n",
       "      <th>783</th>\n",
       "      <th>label</th>\n",
       "    </tr>\n",
       "  </thead>\n",
       "  <tbody>\n",
       "    <tr>\n",
       "      <th>0</th>\n",
       "      <td>0</td>\n",
       "      <td>0</td>\n",
       "      <td>0</td>\n",
       "      <td>0</td>\n",
       "      <td>0</td>\n",
       "      <td>0</td>\n",
       "      <td>0</td>\n",
       "      <td>0</td>\n",
       "      <td>0</td>\n",
       "      <td>0</td>\n",
       "      <td>...</td>\n",
       "      <td>0</td>\n",
       "      <td>0</td>\n",
       "      <td>0</td>\n",
       "      <td>0</td>\n",
       "      <td>0</td>\n",
       "      <td>0</td>\n",
       "      <td>0</td>\n",
       "      <td>0</td>\n",
       "      <td>0</td>\n",
       "      <td>9</td>\n",
       "    </tr>\n",
       "    <tr>\n",
       "      <th>1</th>\n",
       "      <td>0</td>\n",
       "      <td>0</td>\n",
       "      <td>0</td>\n",
       "      <td>0</td>\n",
       "      <td>0</td>\n",
       "      <td>1</td>\n",
       "      <td>0</td>\n",
       "      <td>0</td>\n",
       "      <td>0</td>\n",
       "      <td>0</td>\n",
       "      <td>...</td>\n",
       "      <td>114</td>\n",
       "      <td>130</td>\n",
       "      <td>76</td>\n",
       "      <td>0</td>\n",
       "      <td>0</td>\n",
       "      <td>0</td>\n",
       "      <td>0</td>\n",
       "      <td>0</td>\n",
       "      <td>0</td>\n",
       "      <td>0</td>\n",
       "    </tr>\n",
       "    <tr>\n",
       "      <th>2</th>\n",
       "      <td>0</td>\n",
       "      <td>0</td>\n",
       "      <td>0</td>\n",
       "      <td>0</td>\n",
       "      <td>0</td>\n",
       "      <td>0</td>\n",
       "      <td>0</td>\n",
       "      <td>0</td>\n",
       "      <td>0</td>\n",
       "      <td>22</td>\n",
       "      <td>...</td>\n",
       "      <td>0</td>\n",
       "      <td>1</td>\n",
       "      <td>0</td>\n",
       "      <td>0</td>\n",
       "      <td>0</td>\n",
       "      <td>0</td>\n",
       "      <td>0</td>\n",
       "      <td>0</td>\n",
       "      <td>0</td>\n",
       "      <td>0</td>\n",
       "    </tr>\n",
       "    <tr>\n",
       "      <th>3</th>\n",
       "      <td>0</td>\n",
       "      <td>0</td>\n",
       "      <td>0</td>\n",
       "      <td>0</td>\n",
       "      <td>0</td>\n",
       "      <td>0</td>\n",
       "      <td>0</td>\n",
       "      <td>0</td>\n",
       "      <td>33</td>\n",
       "      <td>96</td>\n",
       "      <td>...</td>\n",
       "      <td>0</td>\n",
       "      <td>0</td>\n",
       "      <td>0</td>\n",
       "      <td>0</td>\n",
       "      <td>0</td>\n",
       "      <td>0</td>\n",
       "      <td>0</td>\n",
       "      <td>0</td>\n",
       "      <td>0</td>\n",
       "      <td>3</td>\n",
       "    </tr>\n",
       "    <tr>\n",
       "      <th>4</th>\n",
       "      <td>0</td>\n",
       "      <td>0</td>\n",
       "      <td>0</td>\n",
       "      <td>0</td>\n",
       "      <td>0</td>\n",
       "      <td>0</td>\n",
       "      <td>0</td>\n",
       "      <td>0</td>\n",
       "      <td>0</td>\n",
       "      <td>0</td>\n",
       "      <td>...</td>\n",
       "      <td>0</td>\n",
       "      <td>0</td>\n",
       "      <td>0</td>\n",
       "      <td>0</td>\n",
       "      <td>0</td>\n",
       "      <td>0</td>\n",
       "      <td>0</td>\n",
       "      <td>0</td>\n",
       "      <td>0</td>\n",
       "      <td>0</td>\n",
       "    </tr>\n",
       "  </tbody>\n",
       "</table>\n",
       "<p>5 rows × 785 columns</p>\n",
       "</div>"
      ],
      "text/plain": [
       "   0  1  2  3  4  5  6  7   8   9  ...  775  776  777  778  779  780  781  \\\n",
       "0  0  0  0  0  0  0  0  0   0   0  ...    0    0    0    0    0    0    0   \n",
       "1  0  0  0  0  0  1  0  0   0   0  ...  114  130   76    0    0    0    0   \n",
       "2  0  0  0  0  0  0  0  0   0  22  ...    0    1    0    0    0    0    0   \n",
       "3  0  0  0  0  0  0  0  0  33  96  ...    0    0    0    0    0    0    0   \n",
       "4  0  0  0  0  0  0  0  0   0   0  ...    0    0    0    0    0    0    0   \n",
       "\n",
       "   782  783  label  \n",
       "0    0    0      9  \n",
       "1    0    0      0  \n",
       "2    0    0      0  \n",
       "3    0    0      3  \n",
       "4    0    0      0  \n",
       "\n",
       "[5 rows x 785 columns]"
      ]
     },
     "execution_count": 3,
     "metadata": {},
     "output_type": "execute_result"
    }
   ],
   "source": [
    "train = pd.DataFrame(data=x_train.reshape(60000,784))\n",
    "train['label'] = y_train.reshape(60000,)\n",
    "train.head()"
   ]
  },
  {
   "cell_type": "code",
   "execution_count": 4,
   "id": "561b9479",
   "metadata": {},
   "outputs": [
    {
     "data": {
      "text/html": [
       "<div>\n",
       "<style scoped>\n",
       "    .dataframe tbody tr th:only-of-type {\n",
       "        vertical-align: middle;\n",
       "    }\n",
       "\n",
       "    .dataframe tbody tr th {\n",
       "        vertical-align: top;\n",
       "    }\n",
       "\n",
       "    .dataframe thead th {\n",
       "        text-align: right;\n",
       "    }\n",
       "</style>\n",
       "<table border=\"1\" class=\"dataframe\">\n",
       "  <thead>\n",
       "    <tr style=\"text-align: right;\">\n",
       "      <th></th>\n",
       "      <th>0</th>\n",
       "      <th>1</th>\n",
       "      <th>2</th>\n",
       "      <th>3</th>\n",
       "      <th>4</th>\n",
       "      <th>5</th>\n",
       "      <th>6</th>\n",
       "      <th>7</th>\n",
       "      <th>8</th>\n",
       "      <th>9</th>\n",
       "      <th>...</th>\n",
       "      <th>775</th>\n",
       "      <th>776</th>\n",
       "      <th>777</th>\n",
       "      <th>778</th>\n",
       "      <th>779</th>\n",
       "      <th>780</th>\n",
       "      <th>781</th>\n",
       "      <th>782</th>\n",
       "      <th>783</th>\n",
       "      <th>label</th>\n",
       "    </tr>\n",
       "  </thead>\n",
       "  <tbody>\n",
       "    <tr>\n",
       "      <th>0</th>\n",
       "      <td>0</td>\n",
       "      <td>0</td>\n",
       "      <td>0</td>\n",
       "      <td>0</td>\n",
       "      <td>0</td>\n",
       "      <td>0</td>\n",
       "      <td>0</td>\n",
       "      <td>0</td>\n",
       "      <td>0</td>\n",
       "      <td>0</td>\n",
       "      <td>...</td>\n",
       "      <td>0</td>\n",
       "      <td>0</td>\n",
       "      <td>0</td>\n",
       "      <td>0</td>\n",
       "      <td>0</td>\n",
       "      <td>0</td>\n",
       "      <td>0</td>\n",
       "      <td>0</td>\n",
       "      <td>0</td>\n",
       "      <td>9</td>\n",
       "    </tr>\n",
       "    <tr>\n",
       "      <th>1</th>\n",
       "      <td>0</td>\n",
       "      <td>0</td>\n",
       "      <td>0</td>\n",
       "      <td>0</td>\n",
       "      <td>0</td>\n",
       "      <td>0</td>\n",
       "      <td>0</td>\n",
       "      <td>0</td>\n",
       "      <td>0</td>\n",
       "      <td>0</td>\n",
       "      <td>...</td>\n",
       "      <td>3</td>\n",
       "      <td>0</td>\n",
       "      <td>3</td>\n",
       "      <td>174</td>\n",
       "      <td>189</td>\n",
       "      <td>67</td>\n",
       "      <td>0</td>\n",
       "      <td>0</td>\n",
       "      <td>0</td>\n",
       "      <td>2</td>\n",
       "    </tr>\n",
       "    <tr>\n",
       "      <th>2</th>\n",
       "      <td>0</td>\n",
       "      <td>0</td>\n",
       "      <td>0</td>\n",
       "      <td>0</td>\n",
       "      <td>0</td>\n",
       "      <td>0</td>\n",
       "      <td>0</td>\n",
       "      <td>0</td>\n",
       "      <td>1</td>\n",
       "      <td>0</td>\n",
       "      <td>...</td>\n",
       "      <td>58</td>\n",
       "      <td>0</td>\n",
       "      <td>0</td>\n",
       "      <td>0</td>\n",
       "      <td>0</td>\n",
       "      <td>0</td>\n",
       "      <td>0</td>\n",
       "      <td>0</td>\n",
       "      <td>0</td>\n",
       "      <td>1</td>\n",
       "    </tr>\n",
       "    <tr>\n",
       "      <th>3</th>\n",
       "      <td>0</td>\n",
       "      <td>0</td>\n",
       "      <td>0</td>\n",
       "      <td>0</td>\n",
       "      <td>0</td>\n",
       "      <td>0</td>\n",
       "      <td>0</td>\n",
       "      <td>0</td>\n",
       "      <td>0</td>\n",
       "      <td>21</td>\n",
       "      <td>...</td>\n",
       "      <td>0</td>\n",
       "      <td>0</td>\n",
       "      <td>0</td>\n",
       "      <td>0</td>\n",
       "      <td>0</td>\n",
       "      <td>0</td>\n",
       "      <td>0</td>\n",
       "      <td>0</td>\n",
       "      <td>0</td>\n",
       "      <td>1</td>\n",
       "    </tr>\n",
       "    <tr>\n",
       "      <th>4</th>\n",
       "      <td>0</td>\n",
       "      <td>0</td>\n",
       "      <td>0</td>\n",
       "      <td>2</td>\n",
       "      <td>0</td>\n",
       "      <td>1</td>\n",
       "      <td>1</td>\n",
       "      <td>0</td>\n",
       "      <td>0</td>\n",
       "      <td>0</td>\n",
       "      <td>...</td>\n",
       "      <td>12</td>\n",
       "      <td>0</td>\n",
       "      <td>0</td>\n",
       "      <td>0</td>\n",
       "      <td>0</td>\n",
       "      <td>0</td>\n",
       "      <td>0</td>\n",
       "      <td>0</td>\n",
       "      <td>0</td>\n",
       "      <td>6</td>\n",
       "    </tr>\n",
       "  </tbody>\n",
       "</table>\n",
       "<p>5 rows × 785 columns</p>\n",
       "</div>"
      ],
      "text/plain": [
       "   0  1  2  3  4  5  6  7  8   9  ...  775  776  777  778  779  780  781  782  \\\n",
       "0  0  0  0  0  0  0  0  0  0   0  ...    0    0    0    0    0    0    0    0   \n",
       "1  0  0  0  0  0  0  0  0  0   0  ...    3    0    3  174  189   67    0    0   \n",
       "2  0  0  0  0  0  0  0  0  1   0  ...   58    0    0    0    0    0    0    0   \n",
       "3  0  0  0  0  0  0  0  0  0  21  ...    0    0    0    0    0    0    0    0   \n",
       "4  0  0  0  2  0  1  1  0  0   0  ...   12    0    0    0    0    0    0    0   \n",
       "\n",
       "   783  label  \n",
       "0    0      9  \n",
       "1    0      2  \n",
       "2    0      1  \n",
       "3    0      1  \n",
       "4    0      6  \n",
       "\n",
       "[5 rows x 785 columns]"
      ]
     },
     "execution_count": 4,
     "metadata": {},
     "output_type": "execute_result"
    }
   ],
   "source": [
    "test = pd.DataFrame(data=x_test.reshape(10000,784))\n",
    "test['label'] = y_test.reshape(10000,)\n",
    "test.head()"
   ]
  },
  {
   "cell_type": "markdown",
   "id": "39cfb659",
   "metadata": {},
   "source": [
    "# Verify"
   ]
  },
  {
   "attachments": {
    "image-4.png": {
     "image/png": "[encoded data removed]"
    }
   },
   "cell_type": "markdown",
   "id": "534f543c",
   "metadata": {},
   "source": [
    "### Label information:\n",
    "![image-4.png](attachment:image-4.png)"
   ]
  },
  {
   "cell_type": "code",
   "execution_count": 5,
   "id": "793a2f5f",
   "metadata": {},
   "outputs": [
    {
     "data": {
      "image/png": "[encoded data removed]",
      "text/plain": [
       "<Figure size 720x720 with 25 Axes>"
      ]
     },
     "metadata": {},
     "output_type": "display_data"
    }
   ],
   "source": [
    "class_names = ['T-shirt/top', 'Trouser', 'Pullover', 'Dress', 'Coat',\n",
    "               'Sandal', 'Shirt', 'Sneaker', 'Bag', 'Ankle boot']\n",
    "plt.figure(figsize=(10,10))\n",
    "for i in range(25):\n",
    "    plt.subplot(5,5,i+1)\n",
    "    plt.xticks([])\n",
    "    plt.yticks([])\n",
    "    plt.grid(False)\n",
    "    plt.imshow(x_train[i], cmap=plt.cm.binary)\n",
    "    plt.xlabel(class_names[y_train[i]])\n",
    "plt.show()"
   ]
  },
  {
   "cell_type": "code",
   "execution_count": 6,
   "id": "f7d955a6",
   "metadata": {},
   "outputs": [
    {
     "data": {
      "image/png": "[encoded data removed]",
      "text/plain": [
       "<Figure size 432x288 with 2 Axes>"
      ]
     },
     "metadata": {
      "needs_background": "light"
     },
     "output_type": "display_data"
    }
   ],
   "source": [
    "plt.figure()\n",
    "plt.imshow(x_train[0])\n",
    "plt.colorbar()\n",
    "plt.grid(False)\n",
    "plt.show()"
   ]
  },
  {
   "cell_type": "code",
   "execution_count": 7,
   "id": "2db89f4c",
   "metadata": {},
   "outputs": [],
   "source": [
    "assert train.isnull().sum().all() == 0\n",
    "assert test.isnull().sum().all() == 0\n",
    "assert len(train) == 60000\n",
    "assert len(test) == 10000"
   ]
  },
  {
   "cell_type": "markdown",
   "id": "179d1018",
   "metadata": {},
   "source": [
    "# Models"
   ]
  },
  {
   "cell_type": "markdown",
   "id": "3dd6735a",
   "metadata": {},
   "source": [
    "### First, we will fit some \"weak\" learners:"
   ]
  },
  {
   "cell_type": "code",
   "execution_count": 8,
   "id": "88d20bb3",
   "metadata": {},
   "outputs": [],
   "source": [
    "x_train = x_train.reshape(60000,784)\n",
    "y_train = y_train.reshape(60000,)\n",
    "x_test = x_test.reshape(10000,784)\n",
    "y_test = y_test.reshape(10000,)"
   ]
  },
  {
   "cell_type": "code",
   "execution_count": 9,
   "id": "7fc32885",
   "metadata": {},
   "outputs": [
    {
     "name": "stdout",
     "output_type": "stream",
     "text": [
      "runtime: 0.0020492076873779297 seconds\n"
     ]
    }
   ],
   "source": [
    "# KNN\n",
    "start = time.time()\n",
    "knn = KNeighborsClassifier()\n",
    "knn.fit(x_train,y_train)\n",
    "end = time.time()\n",
    "print('runtime:',end - start, 'seconds')"
   ]
  },
  {
   "cell_type": "code",
   "execution_count": 10,
   "id": "70df5078",
   "metadata": {},
   "outputs": [
    {
     "name": "stdout",
     "output_type": "stream",
     "text": [
      "runtime: 25.3703293800354 seconds\n"
     ]
    }
   ],
   "source": [
    "# Decision Tree\n",
    "start = time.time()\n",
    "dct = DecisionTreeClassifier(random_state=0)\n",
    "dct.fit(x_train,y_train)\n",
    "end = time.time()\n",
    "print('runtime:',end - start, 'seconds')"
   ]
  },
  {
   "cell_type": "code",
   "execution_count": 11,
   "id": "a4774a5b",
   "metadata": {},
   "outputs": [
    {
     "name": "stdout",
     "output_type": "stream",
     "text": [
      "runtime: 169.59312200546265 seconds\n"
     ]
    }
   ],
   "source": [
    "# Logistic Regression\n",
    "start = time.time()\n",
    "logreg = LogisticRegression(solver='saga',max_iter=100, n_jobs=-1)\n",
    "logreg.fit(x_train,y_train)\n",
    "end = time.time()\n",
    "print('runtime:',end - start, 'seconds')"
   ]
  },
  {
   "cell_type": "markdown",
   "id": "329bc522",
   "metadata": {},
   "source": [
    "### Second, we will fit ensemble models:"
   ]
  },
  {
   "cell_type": "code",
   "execution_count": 12,
   "id": "d1a4d848",
   "metadata": {},
   "outputs": [
    {
     "name": "stdout",
     "output_type": "stream",
     "text": [
      "runtime: 18.88130784034729 seconds\n"
     ]
    }
   ],
   "source": [
    "# Random Forest\n",
    "start = time.time()\n",
    "rnd = RandomForestClassifier(random_state=42, n_estimators=150, n_jobs=-1)\n",
    "rnd.fit(x_train,y_train)\n",
    "end = time.time()\n",
    "print('runtime:',end - start, 'seconds')"
   ]
  },
  {
   "cell_type": "code",
   "execution_count": 13,
   "id": "6300dad1",
   "metadata": {},
   "outputs": [
    {
     "name": "stdout",
     "output_type": "stream",
     "text": [
      "runtime: 186.3134891986847 seconds\n"
     ]
    }
   ],
   "source": [
    "# Voting\n",
    "start = time.time()\n",
    "hard_voting = VotingClassifier(voting='hard', estimators=[('logreg',logreg),('dct',dct),('knn',knn),('rnd',rnd)], n_jobs=-1)\n",
    "hard_voting.fit(x_train, y_train)\n",
    "end = time.time()\n",
    "print('runtime:',end - start, 'seconds')"
   ]
  },
  {
   "cell_type": "code",
   "execution_count": 14,
   "id": "aa41d285",
   "metadata": {},
   "outputs": [
    {
     "name": "stdout",
     "output_type": "stream",
     "text": [
      "runtime: 187.74429965019226 seconds\n"
     ]
    }
   ],
   "source": [
    "# Voting\n",
    "start = time.time()\n",
    "soft_voting = VotingClassifier(voting='soft', estimators=[('logreg',logreg),('dct',dct),('knn',knn),('rnd',rnd)], n_jobs=-1)\n",
    "soft_voting.fit(x_train, y_train)\n",
    "end = time.time()\n",
    "print('runtime:',end - start, 'seconds')"
   ]
  },
  {
   "cell_type": "code",
   "execution_count": 71,
   "id": "37b1edff",
   "metadata": {},
   "outputs": [
    {
     "name": "stdout",
     "output_type": "stream",
     "text": [
      "runtime: 1474.833091020584 seconds\n"
     ]
    }
   ],
   "source": [
    "# Stacking \n",
    "start = time.time()\n",
    "stacking = StackingClassifier(estimators=[('logreg',logreg),('dct',dct),('knn',knn),('rnd',rnd)])\n",
    "stacking.fit(x_train, y_train)\n",
    "end = time.time()\n",
    "print('runtime:',end - start, 'seconds')"
   ]
  },
  {
   "cell_type": "code",
   "execution_count": null,
   "id": "08617bdb",
   "metadata": {},
   "outputs": [],
   "source": [
    "start = time.time()\n",
    "for model in [knn, dct, logreg, rnd, hard_voting, soft_voting, stacking]:\n",
    "    print(model.__class__.__name__,\"    \", model.score(x_test,y_test))\n",
    "end = time.time()\n",
    "print('runtime:',end - start, 'seconds')"
   ]
  },
  {
   "cell_type": "markdown",
   "id": "8f139f63",
   "metadata": {},
   "source": [
    "### Last but not least, Boosting:"
   ]
  },
  {
   "cell_type": "code",
   "execution_count": 16,
   "id": "9f6e03e7",
   "metadata": {},
   "outputs": [
    {
     "name": "stdout",
     "output_type": "stream",
     "text": [
      "runtime: 21.133264303207397 seconds\n"
     ]
    }
   ],
   "source": [
    "# Adaboost\n",
    "start = time.time()\n",
    "adaboost = AdaBoostClassifier(n_estimators=100, base_estimator=rnd)\n",
    "adaboost.fit(x_train, y_train)\n",
    "end = time.time()\n",
    "print('runtime:',end - start, 'seconds')"
   ]
  },
  {
   "cell_type": "code",
   "execution_count": 17,
   "id": "d8e0a0a5",
   "metadata": {},
   "outputs": [
    {
     "name": "stdout",
     "output_type": "stream",
     "text": [
      "0.8764\n",
      "runtime: 0.1632826328277588 seconds\n"
     ]
    }
   ],
   "source": [
    "start = time.time() # Delete later\n",
    "print(adaboost.score(x_test,y_test))\n",
    "end = time.time()\n",
    "print('runtime:',end - start, 'seconds')"
   ]
  },
  {
   "cell_type": "code",
   "execution_count": 19,
   "id": "0f43c9e6",
   "metadata": {},
   "outputs": [
    {
     "name": "stdout",
     "output_type": "stream",
     "text": [
      "runtime: 238.06645369529724 seconds\n"
     ]
    }
   ],
   "source": [
    "#XGBoost\n",
    "start = time.time()\n",
    "xgboost = XGBClassifier(eval_metric='mlogloss')\n",
    "xgboost.fit(x_train, y_train)\n",
    "end = time.time()\n",
    "print('runtime:',end - start, 'seconds')"
   ]
  },
  {
   "cell_type": "code",
   "execution_count": 20,
   "id": "fd601d23",
   "metadata": {},
   "outputs": [
    {
     "name": "stdout",
     "output_type": "stream",
     "text": [
      "0.8983\n",
      "runtime: 0.06975913047790527 seconds\n"
     ]
    }
   ],
   "source": [
    "start = time.time() # Delete later\n",
    "print(xgboost.score(x_test,y_test))\n",
    "end = time.time()\n",
    "print('runtime:',end - start, 'seconds')"
   ]
  },
  {
   "cell_type": "code",
   "execution_count": null,
   "id": "fba90cca",
   "metadata": {},
   "outputs": [],
   "source": [
    "start = time.time()\n",
    "#for model in [knn, dct, logreg, rnd, hard_voting, soft_voting, stacking, adaboost, xgboost]:\n",
    "for model in [knn, dct, logreg, rnd, hard_voting, soft_voting, adaboost, xgboost]:\n",
    "    print(model.__class__.__name__,\"    \", model.score(x_test,y_test))\n",
    "end = time.time()\n",
    "print('runtime:',end - start, 'seconds')"
   ]
  },
  {
   "cell_type": "markdown",
   "id": "30bdb4a2",
   "metadata": {},
   "source": [
    "### Since XGBoost provides the best accuracy, lets use Grid Search to have even better accuracy:"
   ]
  },
  {
   "cell_type": "code",
   "execution_count": 63,
   "id": "c96b6247",
   "metadata": {},
   "outputs": [
    {
     "name": "stdout",
     "output_type": "stream",
     "text": [
      "runtime: 2154.789169549942 seconds\n"
     ]
    }
   ],
   "source": [
    "# Grid Search\n",
    "start = time.time()\n",
    "param_grid = [{'n_estimators': [50, 100, 150], 'learning_rate':[0.5, 1, 1.5]}]\n",
    "model = XGBClassifier(eval_metric='mlogloss')\n",
    "grid_search = GridSearchCV(model, param_grid, cv=[(slice(None), slice(None))], scoring='neg_mean_squared_error', return_train_score=True)\n",
    "grid_search.fit(x_train, y_train)\n",
    "end = time.time()\n",
    "print('runtime:',end - start, 'seconds')"
   ]
  },
  {
   "cell_type": "code",
   "execution_count": 65,
   "id": "845a3c57",
   "metadata": {},
   "outputs": [
    {
     "name": "stdout",
     "output_type": "stream",
     "text": [
      "0.18524758208048672 {'learning_rate': 0.5, 'n_estimators': 50}\n",
      "-0.0 {'learning_rate': 0.5, 'n_estimators': 100}\n",
      "-0.0 {'learning_rate': 0.5, 'n_estimators': 150}\n",
      "-0.0 {'learning_rate': 1, 'n_estimators': 50}\n",
      "-0.0 {'learning_rate': 1, 'n_estimators': 100}\n",
      "-0.0 {'learning_rate': 1, 'n_estimators': 150}\n",
      "0.6245932009449564 {'learning_rate': 1.5, 'n_estimators': 50}\n",
      "0.2660513734851473 {'learning_rate': 1.5, 'n_estimators': 100}\n",
      "0.08266397845091497 {'learning_rate': 1.5, 'n_estimators': 150}\n"
     ]
    }
   ],
   "source": [
    "cvres = grid_search.cv_results_\n",
    "for mean_score, params in zip(cvres[\"mean_test_score\"], cvres[\"params\"]):\n",
    "    print(np.sqrt(-mean_score), params)"
   ]
  },
  {
   "cell_type": "markdown",
   "id": "49c9d956",
   "metadata": {},
   "source": [
    "### Since theres a trade off between the two,  \n",
    "### We must determine which combination of `learning_rate` and `n_estimators` gives the best accuracy:"
   ]
  },
  {
   "cell_type": "code",
   "execution_count": 70,
   "id": "f848f42a",
   "metadata": {},
   "outputs": [
    {
     "name": "stdout",
     "output_type": "stream",
     "text": [
      "learning_rate: 0.5 , n_estimators: 50 - 0.8881\n",
      "learning_rate: 0.5 , n_estimators: 100 - 0.8979\n",
      "learning_rate: 0.5 , n_estimators: 150 - 0.9\n",
      "learning_rate: 1 , n_estimators: 50 - 0.8848\n",
      "learning_rate: 1 , n_estimators: 100 - 0.8909\n",
      "learning_rate: 1 , n_estimators: 150 - 0.8943\n",
      "runtime: 1416.4611117839813 seconds\n"
     ]
    }
   ],
   "source": [
    "#XGBoost\n",
    "start = time.time()\n",
    "for i in [0.5,1]:\n",
    "    for j in [50,100,150]:\n",
    "        xgboost = XGBClassifier(eval_metric='mlogloss', learning_rate=i, n_estimators=j)\n",
    "        xgboost.fit(x_train, y_train)\n",
    "        print('learning_rate:',i,', n_estimators:',j,'-',xgboost.score(x_test,y_test))\n",
    "end = time.time()\n",
    "print('runtime:',end - start, 'seconds')"
   ]
  },
  {
   "cell_type": "code",
   "execution_count": 18,
   "id": "948adb1a",
   "metadata": {},
   "outputs": [
    {
     "name": "stdout",
     "output_type": "stream",
     "text": [
      "runtime: 393.897567987442 seconds\n"
     ]
    }
   ],
   "source": [
    "#XGBoost\n",
    "start = time.time()\n",
    "xgboost = XGBClassifier(eval_metric='mlogloss', learning_rate=0.5, n_estimators=150, n_jobs=-1)\n",
    "xgboost.fit(x_train, y_train)\n",
    "end = time.time()\n",
    "print('runtime:',end - start, 'seconds')"
   ]
  },
  {
   "cell_type": "code",
   "execution_count": 19,
   "id": "4994243d",
   "metadata": {},
   "outputs": [
    {
     "name": "stdout",
     "output_type": "stream",
     "text": [
      "KNeighborsClassifier      0.8554\n",
      "DecisionTreeClassifier      0.7901\n",
      "LogisticRegression      0.8414\n",
      "RandomForestClassifier      0.8781\n",
      "VotingClassifier      0.88\n",
      "VotingClassifier      0.8698\n",
      "AdaBoostClassifier      0.8764\n",
      "XGBClassifier      0.9\n",
      "runtime: 48.58997917175293 seconds\n"
     ]
    }
   ],
   "source": [
    "start = time.time()\n",
    "#for model in [knn, dct, logreg, rnd, hard_voting, soft_voting, stacking, adaboost, xgboost]:\n",
    "for model in [knn, dct, logreg, rnd, hard_voting, soft_voting, adaboost, xgboost]:\n",
    "    print(model.__class__.__name__,\"    \", model.score(x_test,y_test))\n",
    "end = time.time()\n",
    "print('runtime:',end - start, 'seconds')"
   ]
  },
  {
   "cell_type": "markdown",
   "id": "54f13e23",
   "metadata": {},
   "source": [
    "### XGBoost is the best model with 89-90% accuracy.  \n",
    "### Now lets use dimensionality reduction and try to achieve the highest accuracy possible."
   ]
  },
  {
   "cell_type": "code",
   "execution_count": 113,
   "id": "39af863e",
   "metadata": {},
   "outputs": [
    {
     "data": {
      "image/png": "[encoded data removed]",
      "text/plain": [
       "<Figure size 720x576 with 2 Axes>"
      ]
     },
     "metadata": {
      "needs_background": "light"
     },
     "output_type": "display_data"
    }
   ],
   "source": [
    "weight = rnd.feature_importances_\n",
    "pixels = np.array(weight).reshape(28,28)\n",
    "plt.figure(figsize= (10,8))\n",
    "plot = sns.heatmap(pixels,cmap=plt.cm.hot)\n",
    "plt.xticks([])\n",
    "plot.set_yticks([])\n",
    "colorbar = plot.collections[0].colorbar\n",
    "colorbar.set_ticks([0,max(weight)])\n",
    "colorbar.set_ticklabels(['Least important','Most important'])\n",
    "plt.title('Pixel\\'s weight',size = 20)\n",
    "plt.show()"
   ]
  },
  {
   "cell_type": "code",
   "execution_count": 114,
   "id": "ff460dde",
   "metadata": {},
   "outputs": [
    {
     "name": "stdout",
     "output_type": "stream",
     "text": [
      "The most important pixel is: 546\n"
     ]
    }
   ],
   "source": [
    "print(\"The most important pixel is:\",np.argmax(weight == max(weight)))"
   ]
  },
  {
   "cell_type": "code",
   "execution_count": 115,
   "id": "b9ef0328",
   "metadata": {},
   "outputs": [
    {
     "name": "stdout",
     "output_type": "stream",
     "text": [
      "runtime: 3.241544008255005 seconds\n"
     ]
    }
   ],
   "source": [
    "start = time.time()\n",
    "pca = PCA()\n",
    "pca.fit(x_train)\n",
    "cumsum = np.cumsum(pca.explained_variance_ratio_)\n",
    "# d = np.argmax(cumsum >= 0.95)\n",
    "end = time.time()\n",
    "print('runtime:',end - start, 'seconds')"
   ]
  },
  {
   "cell_type": "code",
   "execution_count": 116,
   "id": "c2e23b18",
   "metadata": {},
   "outputs": [
    {
     "data": {
      "text/plain": [
       "Text(0, 0.5, 'variance preserved')"
      ]
     },
     "execution_count": 116,
     "metadata": {},
     "output_type": "execute_result"
    },
    {
     "data": {
      "image/png": "[encoded data removed]",
      "text/plain": [
       "<Figure size 432x288 with 1 Axes>"
      ]
     },
     "metadata": {
      "needs_background": "light"
     },
     "output_type": "display_data"
    }
   ],
   "source": [
    "fig = plt.figure()\n",
    "axes = fig.add_axes([0,0,1.3,1.3])\n",
    "plt.plot(cumsum)\n",
    "plt.title('PCA')\n",
    "plt.xlabel('Number of dimensions')\n",
    "plt.ylabel('variance preserved')"
   ]
  },
  {
   "cell_type": "markdown",
   "id": "359516ed",
   "metadata": {},
   "source": [
    "### We will use the number of dimensions that preserve 95% of the variance:"
   ]
  },
  {
   "cell_type": "code",
   "execution_count": 117,
   "id": "afb42677",
   "metadata": {},
   "outputs": [
    {
     "name": "stdout",
     "output_type": "stream",
     "text": [
      "number of dimensions: 186\n"
     ]
    }
   ],
   "source": [
    "print('number of dimensions:',np.argmax(cumsum >= 0.95))"
   ]
  },
  {
   "cell_type": "code",
   "execution_count": 118,
   "id": "07caa02b",
   "metadata": {},
   "outputs": [],
   "source": [
    "pca = PCA(n_components=0.95)\n",
    "x1_reduced = pca.fit_transform(x_train)\n",
    "x2_reduced = pca.transform(x_test)"
   ]
  },
  {
   "cell_type": "markdown",
   "id": "82635e44",
   "metadata": {},
   "source": [
    "### In order to spare cells, we will fit them all in one:"
   ]
  },
  {
   "cell_type": "code",
   "execution_count": 107,
   "id": "393d06df",
   "metadata": {},
   "outputs": [
    {
     "name": "stdout",
     "output_type": "stream",
     "text": [
      "KNeighborsClassifier      finished\n",
      "DecisionTreeClassifier      finished\n",
      "LogisticRegression      finished\n",
      "RandomForestClassifier      finished\n",
      "VotingClassifier      finished\n",
      "VotingClassifier      finished\n",
      "AdaBoostClassifier      finished\n",
      "XGBClassifier      finished\n",
      "runtime: 1062.991234779358 seconds\n"
     ]
    }
   ],
   "source": [
    "start = time.time()\n",
    "#for model in [knn, dct, logreg, rnd, hard_voting, soft_voting, stacking, adaboost, xgboost]:\n",
    "for model in [knn, dct, logreg, rnd, hard_voting, soft_voting, adaboost, xgboost]:\n",
    "    model.fit(x1_reduced,y_train)\n",
    "    print(model.__class__.__name__,\"     finished\")\n",
    "end = time.time()\n",
    "print('runtime:',end - start, 'seconds')"
   ]
  },
  {
   "cell_type": "code",
   "execution_count": 123,
   "id": "ad65bb99",
   "metadata": {},
   "outputs": [
    {
     "name": "stdout",
     "output_type": "stream",
     "text": [
      "KNeighborsClassifier      0.8623\n",
      "DecisionTreeClassifier      0.7565\n",
      "LogisticRegression      0.8411\n",
      "RandomForestClassifier      0.8593\n",
      "VotingClassifier      0.8662\n",
      "VotingClassifier      0.8557\n",
      "AdaBoostClassifier      0.8585\n",
      "XGBClassifier      0.8816\n",
      "runtime: 30.468470811843872 seconds\n"
     ]
    }
   ],
   "source": [
    "start = time.time()\n",
    "#for model in [knn, dct, logreg, rnd, hard_voting, soft_voting, stacking, adaboost, xgboost]:\n",
    "for model in [knn, dct, logreg, rnd, hard_voting, soft_voting, adaboost, xgboost]:\n",
    "    print(model.__class__.__name__,\"    \", model.score(x2_reduced,y_test))\n",
    "end = time.time()\n",
    "print('runtime:',end - start, 'seconds')"
   ]
  },
  {
   "cell_type": "markdown",
   "id": "4ded4efb",
   "metadata": {},
   "source": [
    "### Using Grid Search is very time consuming, so we'll do this instead:"
   ]
  },
  {
   "cell_type": "code",
   "execution_count": 131,
   "id": "4aba01de",
   "metadata": {},
   "outputs": [
    {
     "name": "stdout",
     "output_type": "stream",
     "text": [
      "learning_rate: 1.5 , n_estimators: 50 - 0.8171\n",
      "learning_rate: 1 , n_estimators: 100 - 0.8736\n",
      "learning_rate: 0.5 , n_estimators: 150 - 0.8816\n",
      "runtime: 920.6477580070496 seconds\n"
     ]
    }
   ],
   "source": [
    "start = time.time()\n",
    "for i, j in zip([1.5,1,0.5],[50,100,150]):\n",
    "        xgboost = XGBClassifier(eval_metric='mlogloss', learning_rate=i, n_estimators=j)\n",
    "        xgboost.fit(x1_reduced, y_train)\n",
    "        print('learning_rate:',i,', n_estimators:',j,'-',xgboost.score(x2_reduced,y_test))\n",
    "end = time.time()\n",
    "print('runtime:',end - start, 'seconds')"
   ]
  },
  {
   "cell_type": "code",
   "execution_count": 124,
   "id": "b882d198",
   "metadata": {},
   "outputs": [
    {
     "name": "stdout",
     "output_type": "stream",
     "text": [
      "runtime: 459.4781575202942 seconds\n"
     ]
    }
   ],
   "source": [
    "start = time.time()\n",
    "xgboost = XGBClassifier(eval_metric='mlogloss', learning_rate=0.5, n_estimators=150)\n",
    "xgboost.fit(x1_reduced, y_train)\n",
    "end = time.time()\n",
    "print('runtime:',end - start, 'seconds')"
   ]
  },
  {
   "cell_type": "code",
   "execution_count": 125,
   "id": "8eafe4dc",
   "metadata": {},
   "outputs": [
    {
     "name": "stdout",
     "output_type": "stream",
     "text": [
      "0.8816\n",
      "runtime: 0.06378507614135742 seconds\n"
     ]
    }
   ],
   "source": [
    "start = time.time()\n",
    "print(xgboost.score(x2_reduced,y_test))\n",
    "end = time.time()\n",
    "print('runtime:',end - start, 'seconds')"
   ]
  },
  {
   "cell_type": "markdown",
   "id": "3820d1a6",
   "metadata": {},
   "source": [
    "### Although we lost about 2% accuracy, given the fact that we gave up on 598 features, it seems like a good trade."
   ]
  },
  {
   "cell_type": "code",
   "execution_count": null,
   "id": "259f69de",
   "metadata": {},
   "outputs": [],
   "source": []
  }
 ],
 "metadata": {
  "kernelspec": {
   "display_name": "Python 3",
   "language": "python",
   "name": "python3"
  },
  "language_info": {
   "codemirror_mode": {
    "name": "ipython",
    "version": 3
   },
   "file_extension": ".py",
   "mimetype": "text/x-python",
   "name": "python",
   "nbconvert_exporter": "python",
   "pygments_lexer": "ipython3",
   "version": "3.8.8"
  }
 },
 "nbformat": 4,
 "nbformat_minor": 5
}
